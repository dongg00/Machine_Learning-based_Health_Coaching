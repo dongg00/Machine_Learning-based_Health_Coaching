# health_analyzer.py

import pandas as pd
import numpy as np
import json
from sklearn.preprocessing import MinMaxScaler
from sklearn.metrics.pairwise import euclidean_distances
import matplotlib.pyplot as plt
import seaborn as sns
import os

# Ensure the plots directory exists
PLOTS_DIR = "plots"
os.makedirs(PLOTS_DIR, exist_ok=True)


class NumpyEncoder(json.JSONEncoder):
    def default(self, obj):
        if isinstance(obj, np.integer):
            return int(obj)
        elif isinstance(obj, np.floating):
            return float(obj)
        elif isinstance(obj, np.ndarray):
            return obj.tolist()
        return super(NumpyEncoder, self).default(obj)

def preprocess_health_data(df_path="건강데이터_2022_2023_합본.csv"):
    df = pd.read_csv(df_path)

    # 1. 이상치 제거 (IQR 방식)
    def remove_outliers_iqr(df, column):
        Q1 = df[column].quantile(0.25)
        Q3 = df[column].quantile(0.75)
        IQR = Q3 - Q1
        lower_bound = Q1 - 1.5 * IQR
        upper_bound = Q3 + 1.5 * IQR
        return df[(df[column] >= lower_bound) & (df[column] <= upper_bound)]

    # 각 분석 지표에 대해 이상치 제거
    for col in ['HE_sbp1', 'HE_dbp1', 'HE_glu', 'HE_BMI', 'weekly_alcohol', 'daily_smoking', 'weekly_exercise', 'daily_veg']:
        df = remove_outliers_iqr(df, col)

    # 2. 결측치 처리 (중앙값 대체)
    for col in ['HE_sbp1', 'HE_dbp1', 'HE_glu', 'HE_BMI', 'weekly_alcohol', 'daily_smoking', 'weekly_exercise', 'daily_veg']:
        df[col].fillna(df[col].median(), inplace=True)

    # 3. 특성 스케일링 (Min-Max Scaling)
    # 스케일링할 컬럼 선택
    features_to_scale = ['HE_sbp1', 'HE_dbp1', 'HE_glu', 'HE_BMI', 'weekly_alcohol', 'daily_smoking', 'weekly_exercise', 'daily_veg']
    
    # MinMaxScaler 객체 생성 및 학습
    scaler = MinMaxScaler()
    df[features_to_scale] = scaler.fit_transform(df[features_to_scale])
    
    # 스케일러 저장 (나중에 사용자 입력 스케일링에 사용)
    # 실제 서비스에서는 이 스케일러 객체를 저장하거나, 스케일링 파라미터를 저장하여 재사용합니다.
    # 여기서는 간단히 함수 내에서 처리합니다.

    return df, scaler # 스케일러도 반환하도록 수정

def analyze_user_health_data(user_data, preprocessed_df_and_scaler):
    preprocessed_df, scaler = preprocessed_df_and_scaler # 튜플 언패킹

    user_name = user_data['user_name']
    
    # 1. 사용자 데이터 전처리 (스케일링)
    # 스케일링할 컬럼 선택 (순서 중요)
    features_to_scale = ['HE_sbp1', 'HE_dbp1', 'HE_glu', 'HE_BMI', 'weekly_alcohol', 'daily_smoking', 'weekly_exercise', 'daily_veg']
    
    # 사용자 데이터를 DataFrame으로 변환하여 스케일링
    user_df = pd.DataFrame([user_data])
    user_scaled_data = scaler.transform(user_df[features_to_scale])
    user_scaled_df = pd.DataFrame(user_scaled_data, columns=features_to_scale)

    # 2. 유사 사용자 검색 (유클리드 거리)
    # 데이터셋의 스케일링된 지표와 사용자 스케일링된 지표 간의 유클리드 거리 계산
    distances = euclidean_distances(user_scaled_df, preprocessed_df[features_to_scale])
    preprocessed_df['distance'] = distances[0] # 사용자 데이터와의 거리

    # 가장 가까운 상위 50명의 유사 사용자 찾기
    similar_users = preprocessed_df.sort_values(by='distance').head(50)

    # 3. 사용자 건강 상태 분석
    user_analysis_results = []
    health_metrics = {
        'HE_sbp1': {'name': '수축기 혈압', 'low': 90, 'normal_low': 100, 'normal_high': 120, 'high': 140},
        'HE_dbp1': {'name': '이완기 혈압', 'low': 60, 'normal_low': 65, 'normal_high': 80, 'high': 90},
        'HE_glu': {'name': '공복 혈당', 'low': 70, 'normal_low': 80, 'normal_high': 100, 'high': 125},
        'HE_BMI': {'name': 'BMI', 'low': 18.5, 'normal_low': 20, 'normal_high': 25, 'high': 30},
        'weekly_alcohol': {'name': '주간 음주량', 'normal_high': 7, 'high': 14}, # 음주량은 낮을수록 좋음
        'daily_smoking': {'name': '일일 흡연량', 'normal_high': 0, 'high': 1}, # 비흡연이 좋음
        'weekly_exercise': {'name': '주간 운동량', 'normal_low': 3, 'normal_high': 5}, # 주 3회 이상 권장
        'daily_veg': {'name': '일일 채소 섭취량', 'normal_low': 5, 'normal_high': 7} # 하루 5회 이상 권장
    }

    for metric, values in health_metrics.items():
        user_value = user_data[metric]
        status = "정상"
        recommendation = ""
        
        if metric in ['HE_sbp1', 'HE_dbp1', 'HE_glu', 'HE_BMI']:
            if user_value < values['low']:
                status = "저위험"
                recommendation = f"{values['name']}이(가) 낮습니다. 전문가와 상담해보세요."
            elif user_value > values['high']:
                status = "고위험"
                recommendation = f"{values['name']}이(가) 높습니다. 전문가와 상담해보세요."
            elif user_value > values['normal_high']:
                status = "주의"
                recommendation = f"{values['name']}이(가) 정상 범위보다 높습니다. 관리해주세요."
            elif user_value < values['normal_low']:
                status = "주의"
                recommendation = f"{values['name']}이(가) 정상 범위보다 낮습니다. 관리해주세요."
        elif metric in ['weekly_alcohol', 'daily_smoking']: # 낮을수록 좋은 지표
            if user_value > values['high']:
                status = "고위험"
                recommendation = f"{values['name']}이(가) 매우 높습니다. 줄이는 노력이 필요합니다."
            elif user_value > values['normal_high']:
                status = "주의"
                recommendation = f"{values['name']}이(가) 권장량보다 많습니다. 줄여주세요."
        elif metric in ['weekly_exercise', 'daily_veg']: # 높을수록 좋은 지표
            if user_value < values['normal_low']:
                status = "주의"
                recommendation = f"{values['name']}이(가) 권장량보다 적습니다. 늘려주세요."
            elif user_value < values['normal_high']:
                status = "정상"
                recommendation = f"{values['name']}은(는) 좋습니다. 현재 수준을 유지하세요."


        user_analysis_results.append({
            'metric': values['name'],
            'user_value': user_value,
            'status': status,
            'recommendation': recommendation
        })

    # 4. 레이더 차트 생성 및 저장
    radar_chart_image_path = generate_radar_chart(user_data, similar_users, user_name, features_to_scale, scaler)

    return {
        'user_name': user_name,
        'analysis_results': user_analysis_results,
        'similar_users_count': len(similar_users),
        'radar_chart_image_path': radar_chart_image_path
    }

def generate_radar_chart(user_data, similar_users_df, user_name, features, scaler):
    # 레이더 차트 생성을 위한 데이터 준비
    # 원본 값을 사용하여 차트를 그리기 위해 스케일링 역변환
    
    # 사용자 데이터 역변환
    user_scaled_data = scaler.transform(pd.DataFrame([user_data])[features])
    user_original_values = scaler.inverse_transform(user_scaled_data)[0]
    user_df_for_chart = pd.DataFrame([user_original_values], columns=features)
    
    # 유사 사용자 평균 역변환
    similar_users_scaled_avg = similar_users_df[features].mean().values.reshape(1, -1)
    similar_users_original_avg = scaler.inverse_transform(similar_users_scaled_avg)[0]
    similar_users_df_for_chart = pd.DataFrame([similar_users_original_avg], columns=features)

    # 레이더 차트 그리기
    categories = [
        '수축기 혈압', '이완기 혈압', '공복 혈당', 'BMI',
        '주간 음주량', '일일 흡연량', '주간 운동량', '일일 채소 섭취량'
    ]
    
    # 각 지표에 대한 적절한 범위 설정 (최소, 최대 값)
    # 실제 데이터의 분포나 건강 기준에 따라 조정 필요
    ranges = {
        'HE_sbp1': (80, 160),
        'HE_dbp1': (50, 100),
        'HE_glu': (60, 150),
        'HE_BMI': (15, 35),
        'weekly_alcohol': (0, 20),
        'daily_smoking': (0, 2), # 0: 비흡연, 1: 흡연 (간단화)
        'weekly_exercise': (0, 7),
        'daily_veg': (0, 10)
    }

    N = len(categories)
    
    # 각 축의 각도 계산
    angles = [n / float(N) * 2 * np.pi for n in range(N)]
    angles += angles[:1] # 첫 번째 값 반복하여 차트 닫기

    fig, ax = plt.subplots(figsize=(8, 8), subplot_kw=dict(polar=True))

    # 사용자 데이터 플로팅
    user_values = user_df_for_chart.iloc[0][features].tolist()
    user_values += user_values[:1] # 첫 번째 값 반복
    ax.plot(angles, user_values, linewidth=2, linestyle='solid', label=f'{user_name} (당신)', color='blue')
    ax.fill(angles, user_values, 'blue', alpha=0.1)

    # 유사 사용자 평균 데이터 플로팅
    similar_values = similar_users_df_for_chart.iloc[0][features].tolist()
    similar_values += similar_values[:1] # 첫 번째 값 반복
    ax.plot(angles, similar_values, linewidth=2, linestyle='solid', label='유사 사용자 평균', color='red')
    ax.fill(angles, similar_values, 'red', alpha=0.1)

    # 축 설정
    ax.set_theta_offset(np.pi / 2)
    ax.set_theta_direction(-1)
    
    # 축 라벨 설정
    ax.set_xticks(angles[:-1])
    ax.set_xticklabels(categories)

    # y축 (반경) 설정
    for i, feature in enumerate(features):
        ymin, ymax = ranges[feature]
        ax.set_ylim(ymin, ymax) # 각 축의 최소, 최대 값 설정

    # 눈금 라벨 (여기서는 숨김)
    ax.set_yticklabels([]) 

    plt.title(f'{user_name}과 유사 사용자 건강 지표 비교', size=16, color='black', y=1.1)
    plt.legend(loc='upper right', bbox_to_anchor=(0.1, 0.1))
    
    # 파일 저장 경로
    image_filename = f"{user_name}_radar_chart.png"
    image_path = os.path.join(PLOTS_DIR, image_filename)
    plt.savefig(image_path)
    plt.close() # 차트 닫기 (메모리 절약)
    
    return image_path